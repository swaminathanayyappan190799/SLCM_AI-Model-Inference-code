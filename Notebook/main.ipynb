{
 "cells": [
  {
   "attachments": {},
   "cell_type": "markdown",
   "metadata": {},
   "source": [
    "**Grain Quality Check Module Demonstration By Nuvento**\n",
    "\n",
    "This notebook is created for demonstrating functionalities of Artificial Intelligence models created by Nuvento Systems Private Limited for Sohan Lal Commodity Management Agrireach Quality Check Mobile application.It will covers and elaborates about the working functionality of two AI models which are useful for predicting quality of grains from an user input image that is captured through the mobile camera or from an uploaded image.\n",
    "\n",
    "Furtherly, this notebook has two sections which explains about the working principle of two models:\n",
    "1.   Classification (For predicting a valid input image from the user).\n",
    "2.   Detection (For detecting number of grains and classifying each inside the image based on the sub-categories).\n",
    "***\n",
    "***Notebook procedures and operations***:\n",
    "***\n",
    "\n",
    "*   As a preliminary procedure, ensure whether you are connected to a runtime/kernel for this notebook. Runtime helps in executing the python code within the notebook. This you can view it on the right top corner of this notebook.\n",
    "*   Often use **Shift & Enter(Return)** together for executing the code snippets of this notebook.\n",
    "*   Incase if the kernel is stopped restart the kernel for executing this code.\n",
    "*  Give appropriate inputs while you are making an inference, if you are giving unappropriate inputs then you will get an error message.\n",
    "* For each and every successful inference, a copy of results will be saved in the detections results directory.\n"
   ]
  },
  {
   "cell_type": "code",
   "execution_count": 1,
   "metadata": {},
   "outputs": [
    {
     "name": "stderr",
     "output_type": "stream",
     "text": [
      "2023-05-29 14:47:17,528 INFO 2493176319  Input Data Received Initiating Inference\n",
      "2023-05-29 14:47:17,764 INFO inference  Initiating classification model inference\n",
      "2023-05-29 14:47:17,776 INFO inference  Data processed for classification model\n",
      "2023-05-29 14:47:19,600 INFO inference  Results predicted for classification model returning results\n",
      "2023-05-29 14:47:19,601 INFO inference  The classification model has predicted the input image as Chana\n",
      "2023-05-29 14:47:24,800 INFO inference  Initiating Detection model inference\n",
      "Using cache found in C:\\Users\\swaminathan.ayyappan/.cache\\torch\\hub\\ultralytics_yolov5_master\n",
      "YOLOv5  2022-10-28 Python-3.8.10 torch-1.13.0 CPU\n",
      "\n",
      "Fusing layers... \n",
      "Model summary: 267 layers, 46162128 parameters, 0 gradients, 107.8 GFLOPs\n",
      "Adding AutoShape... \n",
      "2023-05-29 14:47:32,558 INFO inference  Inference completed for detection model sending results to draw annotations\n",
      "Inference completed for detection model sending results to draw annotations\n",
      "2023-05-29 14:47:32,562 INFO inference  Writing annotations !....\n",
      "Writing annotations !....\n",
      "2023-05-29 14:47:32,578 INFO inference  Annotation drawn on the input image saving the annotated image !\n",
      "Annotation drawn on the input image saving the annotated image !\n",
      "2023-05-29 14:47:32,776 INFO 2493176319  A copy of this image detection results are saved inside c:\\Users\\swaminathan.ayyappan\\Documents\\Projects_new\\SLCM\\Prod-models\\SLCM_AI_Model-Inference_code\\Notebook\\Detections\\ooYEs_annotated.jpg\n",
      "A copy of this image detection results are saved inside c:\\Users\\swaminathan.ayyappan\\Documents\\Projects_new\\SLCM\\Prod-models\\SLCM_AI_Model-Inference_code\\Notebook\\Detections\\ooYEs_annotated.jpg\n"
     ]
    },
    {
     "name": "stdout",
     "output_type": "stream",
     "text": [
      "\n",
      "\n",
      "125 of Healthy grains are detected in the image\n",
      "6 of Broken grains are detected in the image\n",
      "9 of Green grains are detected in the image\n",
      "7 of Damaged grains are detected in the image\n",
      "5 of Inorganic foreign material grains are detected in the image\n",
      "5 of Organic foreign material grains are detected in the image\n",
      "13 of Shriveled grains are detected in the image\n",
      "9 of Weeveled grains are detected in the image\n",
      "4 of Discolour grains are detected in the image\n",
      "4 of Immature grains are detected in the image\n",
      "In Total 187 grains are detected in the given image\n"
     ]
    }
   ],
   "source": [
    "import cv2\n",
    "from skimage import io\n",
    "from PyQt5.QtWidgets import QApplication, QMessageBox\n",
    "from inference import classification_inference, detection_inference, color_scheme, commodity_config\n",
    "from log_settings import logger\n",
    "\n",
    "try:\n",
    "    input_image = input(\"Enter a valid image path/ URL of an image : \")\n",
    "    logger.info(\"Input Data Received Initiating Inference\")\n",
    "    input_image = io.imread(input_image)\n",
    "    classifier_model_obj = classification_inference(input_img=input_image)\n",
    "    classifier_model_results = classifier_model_obj.run_classifier_inference()\n",
    "    try:\n",
    "        classifier_pop_up_app = QApplication([])\n",
    "        classifier_pop_up = QMessageBox()\n",
    "        classifier_pop_up.setIcon(QMessageBox.Information)\n",
    "        classifier_pop_up.setText(f\"The given input image is classified as : {classifier_model_results}\")\n",
    "        classifier_pop_up.setWindowTitle(\"Classification model Prediction\")\n",
    "        classifier_pop_up.setStandardButtons(QMessageBox.Ok)\n",
    "        ok_button = classifier_pop_up.button(QMessageBox.Ok)\n",
    "        ok_button.clicked.connect(classifier_pop_up.close)\n",
    "        classifier_pop_up.show()\n",
    "        classifier_pop_up_app.exec_()\n",
    "    except:\n",
    "        logger.error(\"Error in showing the classifier model results\")\n",
    "    if classifier_model_results not in [\"Wheat\", \"Other-Unknown\"]:\n",
    "        detection_model_obj = detection_inference(input_image=input_image, commodity_configuration=commodity_config[classifier_model_results.lower()], defined_color_scheme=color_scheme)\n",
    "        annotated_img_path, grain_counts = detection_model_obj.run_inference()\n",
    "        logger.info(f\"A copy of this image detection results are saved inside {annotated_img_path}\")\n",
    "        try:\n",
    "            img = cv2.imread(annotated_img_path)\n",
    "            cv2.namedWindow(\"Detection prediction\", cv2.WINDOW_NORMAL)\n",
    "            cv2.resizeWindow(\"Detection prediction\", 1280, 860)\n",
    "            cv2.imshow(\"Detection prediction\",img)\n",
    "            cv2.waitKey(0)\n",
    "            cv2.destroyAllWindows()\n",
    "            print('\\n')\n",
    "            for grain_class,counts in grain_counts.items():\n",
    "                print(f\"{counts} of {grain_class} grains are detected in the image\")\n",
    "            print(f\"In Total {sum(grain_counts.values())} grains are detected in the given image\")\n",
    "        except:\n",
    "            logger.error(\"Error in displaying the detection model results\")\n",
    "    else:\n",
    "        logger.info(f\"The Classifier model detected as {classifier_model_results} Terminating !.....\")\n",
    "except Exception as ex:\n",
    "    logger.error(str(ex))\n",
    "    logger.error(\"Error in performing inference check the input data !\")"
   ]
  }
 ],
 "metadata": {
  "kernelspec": {
   "display_name": "slcm-agrireach",
   "language": "python",
   "name": "python3"
  },
  "language_info": {
   "codemirror_mode": {
    "name": "ipython",
    "version": 3
   },
   "file_extension": ".py",
   "mimetype": "text/x-python",
   "name": "python",
   "nbconvert_exporter": "python",
   "pygments_lexer": "ipython3",
   "version": "3.8.10"
  },
  "orig_nbformat": 4
 },
 "nbformat": 4,
 "nbformat_minor": 2
}
